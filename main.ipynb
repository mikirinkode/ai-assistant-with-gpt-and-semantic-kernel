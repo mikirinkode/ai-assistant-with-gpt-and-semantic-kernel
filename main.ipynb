{
 "cells": [
  {
   "cell_type": "code",
   "execution_count": null,
   "metadata": {},
   "outputs": [],
   "source": [
    "pip install openai"
   ]
  },
  {
   "cell_type": "code",
   "execution_count": null,
   "metadata": {},
   "outputs": [],
   "source": [
    "pip install python-dotenv"
   ]
  },
  {
   "cell_type": "code",
   "execution_count": null,
   "metadata": {},
   "outputs": [],
   "source": [
    "from dotenv import load_dotenv\n",
    "import os\n",
    "from openai import OpenAI\n",
    "\n",
    "load_dotenv()\n",
    "openai_key = os.environ.get('OPENAI_API_KEY')\n",
    "\n",
    "client = OpenAI(\n",
    "    api_key = openai_key\n",
    ")"
   ]
  },
  {
   "cell_type": "code",
   "execution_count": null,
   "metadata": {},
   "outputs": [],
   "source": [
    "from dataclasses import dataclass\n",
    "\n",
    "@dataclass\n",
    "class ExternalKnowledge:\n",
    "    title: str\n",
    "    content: str\n",
    "    \n",
    "    def __str__(self) -> str:\n",
    "        return f\"{self.title}: {self.content}\"\n",
    "\n",
    "wafa = \"\"\"\n",
    "    Muhammad Wafa Al Ausath, or commonly known as Wafa, is a student majoring in Informatics Engineering at Lampung University.\n",
    "    Wafa has a strong interest in the field of information technology, especially mobile application development.\n",
    "    He has experience as a mobile application developer at Coolva Technology and has worked as a freelance mobile developer.\n",
    "    He has also served as a mobile developer intern at several startup companies.\n",
    "    \n",
    "    github profile = https://github.com/mikirinkode\n",
    "    linkedin profile = www.linkedin.com/in/muhammadwafaalausath\n",
    "    personal website = https://mikirinkode.com\n",
    "\"\"\".strip()\n",
    "\n",
    "extra_knowledges = [\n",
    "    ExternalKnowledge(title=\"Wafa\",content=wafa),\n",
    "]"
   ]
  },
  {
   "cell_type": "code",
   "execution_count": null,
   "metadata": {},
   "outputs": [],
   "source": [
    "import json\n",
    "import datetime\n",
    "\n",
    "class MyAssistant:\n",
    "    def __init__(self, openai_client, extra_knowledges, name = \"Miriko\"):\n",
    "        self.name = name\n",
    "        self.messages = [\n",
    "            {\"role\": \"system\", \"content\": f\"\"\"\n",
    "             You are a Wafa's personal AI Assistant that helps him with his daily tasks. \n",
    "             Here some extra knowledges for you {extra_knowledges}.\n",
    "             \"\"\".strip()},\n",
    "        ]\n",
    "        self.client = openai_client\n",
    "        print(self.greet())\n",
    "\n",
    "    def greet(self):\n",
    "        # print(self.chat(\"Say Greeting\"))\n",
    "        return f\"Hello, {self.name} here. Anything i could help today?\"\n",
    "\n",
    "    # promt -> input user\n",
    "    # system_content -> role the ai that we want\n",
    "    # model -> used gpt model\n",
    "    # stream -> to display the result in real time (like typing)\n",
    "    def chat(self, prompt, system_content = None, model = \"gpt-3.5-turbo\", stream = False):\n",
    "        \n",
    "        system_content = system_content if system_content != None else self._determine_system_content(prompt)\n",
    "            \n",
    "        self.messages.append({\"role\": \"system\", \"content\": system_content}) \n",
    "        \n",
    "        self.messages.append({\"role\": \"user\", \"content\": prompt})\n",
    "        \n",
    "        if stream:\n",
    "            completion = self.client.chat.completions.create(\n",
    "                model = model,\n",
    "                messages = self.messages,\n",
    "                stream = True\n",
    "            )\n",
    "            for chunk in completion:\n",
    "                if chunk.choices[0].delta.content is not None:\n",
    "                    print(chunk.choices[0].delta.content, end=\"\")\n",
    "        else: \n",
    "            completion = client.chat.completions.create(\n",
    "                model = model,\n",
    "                messages = self.messages\n",
    "            )\n",
    "            result = completion.choices[0].message.content\n",
    "            self._handle_result(result)\n",
    "            \n",
    "            \n",
    "    def _determine_system_content(self, content):\n",
    "        if \"summarize\" in content:\n",
    "            return self._summarizer()\n",
    "        elif \"translate\" in content:\n",
    "            return self._translator()\n",
    "        elif \"correct\" in content:\n",
    "            return self._english_grammar_master()\n",
    "        elif \"who is\" in content:\n",
    "            return self._who_is()\n",
    "        elif \"how to\" in content:\n",
    "            return self._how_to()\n",
    "        else:\n",
    "            return \"\"\"\n",
    "        You are a Wafa's personal AI Assistant that helps him with his daily tasks.\n",
    "             \n",
    "             You also have this following tools:\n",
    "             Time () -> return current time\n",
    "             Date () -> return current date\n",
    "             \n",
    "             Output in the following format:\n",
    "             {\n",
    "                 direct_answer: \"<your answer\", # if you have direct answer\n",
    "                 invoke_external_tool: \"<tool name>([parameter])\", # if you want to invoke external tool\n",
    "             }\n",
    "        \"\"\"\n",
    "            \n",
    "    def _handle_result(self, result):\n",
    "        json_result = json.loads(result)\n",
    "        \n",
    "        if \"direct_answer\" in result:\n",
    "            direct_answer = json_result.get(\"direct_answer\")\n",
    "            print(direct_answer)\n",
    "        elif \"invoke_external_tool\" in result:\n",
    "            tool_name = json_result.get(\"invoke_external_tool\")\n",
    "            if tool_name == \"Time()\":\n",
    "                print(datetime.datetime.now().strftime(\"%H:%M\"))\n",
    "            elif tool_name == \"Date()\":\n",
    "                print(datetime.datetime.now().strftime(\"%A, %d %B %Y\"))\n",
    "        else:\n",
    "            print(\"Here is the result:\")\n",
    "            print(result)\n",
    "    \n",
    "    \n",
    "    def _summarizer(self):\n",
    "        return \"\"\"\n",
    "                        You are a summarizer AI that summarizes the given content in two sentences.\n",
    "                        The output format should be in a list\n",
    "                    \"\"\".strip()\n",
    "\n",
    "    def _translator(self):\n",
    "        return \"\"\"\n",
    "                        You are a translator AI that translates the given content to user's requested language.\n",
    "                        Don't make assumptions about what language the user wants to translate to.\n",
    "                        Ask for clarification if a user doesn't specify a language.\n",
    "                    \"\"\".strip()\n",
    "        \n",
    "    def _english_grammar_master(self):\n",
    "        return \"\"\"You are an English grammar master that corrects the given content.\n",
    "                    \"\"\".strip()\n",
    "\n",
    "    def _who_is(self):\n",
    "        return \"\"\"if the user asks about a person, return in this JSON format:\n",
    "                            {\n",
    "                                \"name\": \"John Doe\", # must be a full name\n",
    "                                \"skills\": [\"Mobile Development\", \"Web Development\", \"Machine Learning\"],\n",
    "                                \"experience\": [ # The experience must be clear information, if there is some missing information use empty string\n",
    "                                    {\n",
    "                                        \"company\": \"Coolva Technology\",\n",
    "                                        \"role\": \"Mobile Developer\",\n",
    "                                        \"duration\": 1 # must be return in year\n",
    "                                    },\n",
    "                                    {\n",
    "                                        \"company\": \"Gojek\",\n",
    "                                        \"role\": \"Software Engineer\",\n",
    "                                        \"duration\": 1 # must be return in year\n",
    "                                    }\n",
    "                                ]\n",
    "                            }\n",
    "                            \n",
    "                            if the user ask about How To Do something, \n",
    "                         \"\"\".strip()\n",
    "        \n",
    "    def _how_to(self):\n",
    "        return \"\"\"please return in this JSON List format:\n",
    "                            [\n",
    "                                {\n",
    "                                    \"step\" : \"step name\",\n",
    "                                    \"description\": \"step description\",\n",
    "                                    \"tools\" : [\"tool 1\", \"tool 2\"], # optional, if there is a tool that needed\n",
    "                                    \"difficulty\": \"\" # can be easy, medium, hard, or empty string\n",
    "                                }\n",
    "                            ]\n",
    "                    \"\"\".strip()\n",
    "        \n",
    "    def display_chat_history(self):\n",
    "        for message in self.messages:\n",
    "            print(message[\"role\"], \":\", message[\"content\"])"
   ]
  },
  {
   "cell_type": "code",
   "execution_count": null,
   "metadata": {},
   "outputs": [],
   "source": [
    "my_assistant = MyAssistant(openai_client=client, extra_knowledges=extra_knowledges)"
   ]
  },
  {
   "cell_type": "code",
   "execution_count": null,
   "metadata": {},
   "outputs": [],
   "source": [
    "my_assistant.chat(\"do you know who am i?\")"
   ]
  },
  {
   "cell_type": "code",
   "execution_count": null,
   "metadata": {},
   "outputs": [],
   "source": [
    "my_assistant.chat(\"who is wafa?\")"
   ]
  },
  {
   "cell_type": "code",
   "execution_count": null,
   "metadata": {},
   "outputs": [],
   "source": [
    "my_assistant.chat(\"how to make an instant noodle?\")"
   ]
  },
  {
   "cell_type": "code",
   "execution_count": null,
   "metadata": {},
   "outputs": [],
   "source": [
    "my_assistant.chat(\"i want 'hello, how are you?' be translated in another language\")"
   ]
  },
  {
   "cell_type": "code",
   "execution_count": null,
   "metadata": {},
   "outputs": [],
   "source": [
    "my_assistant.chat(\"in japanese please\")"
   ]
  },
  {
   "cell_type": "code",
   "execution_count": null,
   "metadata": {},
   "outputs": [],
   "source": [
    "my_assistant.display_chat_history()"
   ]
  },
  {
   "cell_type": "code",
   "execution_count": null,
   "metadata": {},
   "outputs": [],
   "source": [
    "my_assistant.chat(\"what time is it now?\")"
   ]
  },
  {
   "cell_type": "code",
   "execution_count": null,
   "metadata": {},
   "outputs": [],
   "source": [
    "my_assistant.chat(\"what date is it now?\")"
   ]
  },
  {
   "cell_type": "code",
   "execution_count": 1,
   "metadata": {},
   "outputs": [
    {
     "name": "stdout",
     "output_type": "stream",
     "text": [
      "Collecting semantic-kernel\n",
      "  Downloading semantic_kernel-0.4.3.dev0-py3-none-any.whl (214 kB)\n",
      "Requirement already satisfied: openai>=1.0 in c:\\users\\lenovo\\anaconda3\\lib\\site-packages (from semantic-kernel) (1.3.8)\n",
      "Collecting motor<4.0.0,>=3.3.1\n",
      "  Downloading motor-3.3.2-py3-none-any.whl (70 kB)\n",
      "Collecting openapi_core<0.19.0,>=0.18.0\n",
      "  Downloading openapi_core-0.18.2-py3-none-any.whl (82 kB)\n",
      "Requirement already satisfied: python-dotenv==1.0.0 in c:\\users\\lenovo\\anaconda3\\lib\\site-packages (from semantic-kernel) (1.0.0)\n",
      "Collecting prance<24.0.0.0,>=23.6.21.0\n",
      "  Downloading prance-23.6.21.0-py3-none-any.whl (36 kB)\n",
      "Requirement already satisfied: regex<2024.0.0,>=2023.6.3 in c:\\users\\lenovo\\anaconda3\\lib\\site-packages (from semantic-kernel) (2023.10.3)\n",
      "Requirement already satisfied: numpy<2.0.0,>=1.24.2 in c:\\users\\lenovo\\anaconda3\\lib\\site-packages (from semantic-kernel) (1.24.3)\n",
      "Collecting aiofiles<24.0.0,>=23.1.0\n",
      "  Using cached aiofiles-23.2.1-py3-none-any.whl (15 kB)\n",
      "Requirement already satisfied: aiohttp<4.0,>=3.8 in c:\\users\\lenovo\\anaconda3\\lib\\site-packages (from semantic-kernel) (3.9.0)\n",
      "Requirement already satisfied: pydantic>2 in c:\\users\\lenovo\\anaconda3\\lib\\site-packages (from semantic-kernel) (2.5.2)\n",
      "Requirement already satisfied: httpx<1,>=0.23.0 in c:\\users\\lenovo\\anaconda3\\lib\\site-packages (from openai>=1.0->semantic-kernel) (0.23.0)\n",
      "Requirement already satisfied: typing-extensions<5,>=4.5 in c:\\users\\lenovo\\anaconda3\\lib\\site-packages (from openai>=1.0->semantic-kernel) (4.9.0)\n",
      "Requirement already satisfied: tqdm>4 in c:\\users\\lenovo\\anaconda3\\lib\\site-packages (from openai>=1.0->semantic-kernel) (4.65.0)\n",
      "Requirement already satisfied: distro<2,>=1.7.0 in c:\\users\\lenovo\\anaconda3\\lib\\site-packages (from openai>=1.0->semantic-kernel) (1.8.0)\n",
      "Requirement already satisfied: sniffio in c:\\users\\lenovo\\anaconda3\\lib\\site-packages (from openai>=1.0->semantic-kernel) (1.2.0)\n",
      "Requirement already satisfied: anyio<5,>=3.5.0 in c:\\users\\lenovo\\anaconda3\\lib\\site-packages (from openai>=1.0->semantic-kernel) (3.5.0)\n",
      "Collecting pymongo<5,>=4.5\n",
      "  Downloading pymongo-4.6.1-cp38-cp38-win_amd64.whl (472 kB)\n",
      "Collecting isodate\n",
      "  Downloading isodate-0.6.1-py2.py3-none-any.whl (41 kB)\n",
      "Collecting jsonschema-spec<0.3.0,>=0.2.3\n",
      "  Downloading jsonschema_spec-0.2.4-py3-none-any.whl (14 kB)\n",
      "Requirement already satisfied: werkzeug in c:\\users\\lenovo\\anaconda3\\lib\\site-packages (from openapi_core<0.19.0,>=0.18.0->semantic-kernel) (2.2.3)\n",
      "Collecting asgiref<4.0.0,>=3.6.0\n",
      "  Downloading asgiref-3.7.2-py3-none-any.whl (24 kB)\n",
      "Collecting openapi-spec-validator<0.8.0,>=0.7.1\n",
      "  Downloading openapi_spec_validator-0.7.1-py3-none-any.whl (38 kB)\n",
      "Collecting openapi-schema-validator<0.7.0,>=0.6.0\n",
      "  Downloading openapi_schema_validator-0.6.2-py3-none-any.whl (8.8 kB)\n",
      "Requirement already satisfied: jsonschema<5.0.0,>=4.18.0 in c:\\users\\lenovo\\anaconda3\\lib\\site-packages (from openapi_core<0.19.0,>=0.18.0->semantic-kernel) (4.19.2)\n",
      "Requirement already satisfied: more-itertools in c:\\users\\lenovo\\anaconda3\\lib\\site-packages (from openapi_core<0.19.0,>=0.18.0->semantic-kernel) (10.1.0)\n",
      "Collecting parse\n",
      "  Downloading parse-1.20.0-py2.py3-none-any.whl (19 kB)\n",
      "Requirement already satisfied: packaging>=21.3 in c:\\users\\lenovo\\anaconda3\\lib\\site-packages (from prance<24.0.0.0,>=23.6.21.0->semantic-kernel) (23.1)\n",
      "Requirement already satisfied: six~=1.15 in c:\\users\\lenovo\\anaconda3\\lib\\site-packages (from prance<24.0.0.0,>=23.6.21.0->semantic-kernel) (1.16.0)\n",
      "Requirement already satisfied: chardet>=3.0 in c:\\users\\lenovo\\anaconda3\\lib\\site-packages (from prance<24.0.0.0,>=23.6.21.0->semantic-kernel) (4.0.0)\n",
      "Collecting ruamel.yaml>=0.17.10\n",
      "  Downloading ruamel.yaml-0.18.5-py3-none-any.whl (116 kB)\n",
      "Requirement already satisfied: requests>=2.25 in c:\\users\\lenovo\\anaconda3\\lib\\site-packages (from prance<24.0.0.0,>=23.6.21.0->semantic-kernel) (2.31.0)\n",
      "Requirement already satisfied: yarl<2.0,>=1.0 in c:\\users\\lenovo\\anaconda3\\lib\\site-packages (from aiohttp<4.0,>=3.8->semantic-kernel) (1.9.3)\n",
      "Requirement already satisfied: aiosignal>=1.1.2 in c:\\users\\lenovo\\anaconda3\\lib\\site-packages (from aiohttp<4.0,>=3.8->semantic-kernel) (1.2.0)\n",
      "Requirement already satisfied: multidict<7.0,>=4.5 in c:\\users\\lenovo\\anaconda3\\lib\\site-packages (from aiohttp<4.0,>=3.8->semantic-kernel) (6.0.4)\n",
      "Requirement already satisfied: attrs>=17.3.0 in c:\\users\\lenovo\\anaconda3\\lib\\site-packages (from aiohttp<4.0,>=3.8->semantic-kernel) (23.1.0)\n",
      "Requirement already satisfied: async-timeout<5.0,>=4.0; python_version < \"3.11\" in c:\\users\\lenovo\\anaconda3\\lib\\site-packages (from aiohttp<4.0,>=3.8->semantic-kernel) (4.0.2)\n",
      "Requirement already satisfied: frozenlist>=1.1.1 in c:\\users\\lenovo\\anaconda3\\lib\\site-packages (from aiohttp<4.0,>=3.8->semantic-kernel) (1.4.0)\n",
      "Requirement already satisfied: pydantic-core==2.14.5 in c:\\users\\lenovo\\anaconda3\\lib\\site-packages (from pydantic>2->semantic-kernel) (2.14.5)\n",
      "Requirement already satisfied: annotated-types>=0.4.0 in c:\\users\\lenovo\\anaconda3\\lib\\site-packages (from pydantic>2->semantic-kernel) (0.6.0)\n",
      "Requirement already satisfied: httpcore<0.16.0,>=0.15.0 in c:\\users\\lenovo\\anaconda3\\lib\\site-packages (from httpx<1,>=0.23.0->openai>=1.0->semantic-kernel) (0.15.0)\n",
      "Requirement already satisfied: rfc3986[idna2008]<2,>=1.3 in c:\\users\\lenovo\\anaconda3\\lib\\site-packages (from httpx<1,>=0.23.0->openai>=1.0->semantic-kernel) (1.4.0)\n",
      "Requirement already satisfied: certifi in c:\\users\\lenovo\\anaconda3\\lib\\site-packages (from httpx<1,>=0.23.0->openai>=1.0->semantic-kernel) (2023.11.17)\n",
      "Requirement already satisfied: colorama; platform_system == \"Windows\" in c:\\users\\lenovo\\anaconda3\\lib\\site-packages (from tqdm>4->openai>=1.0->semantic-kernel) (0.4.6)\n",
      "Requirement already satisfied: idna>=2.8 in c:\\users\\lenovo\\anaconda3\\lib\\site-packages (from anyio<5,>=3.5.0->openai>=1.0->semantic-kernel) (3.4)\n",
      "Collecting dnspython<3.0.0,>=1.16.0\n",
      "  Downloading dnspython-2.4.2-py3-none-any.whl (300 kB)\n",
      "Requirement already satisfied: referencing<0.31.0,>=0.28.0 in c:\\users\\lenovo\\anaconda3\\lib\\site-packages (from jsonschema-spec<0.3.0,>=0.2.3->openapi_core<0.19.0,>=0.18.0->semantic-kernel) (0.30.2)\n",
      "Requirement already satisfied: PyYAML>=5.1 in c:\\users\\lenovo\\anaconda3\\lib\\site-packages (from jsonschema-spec<0.3.0,>=0.2.3->openapi_core<0.19.0,>=0.18.0->semantic-kernel) (6.0.1)\n",
      "Collecting pathable<0.5.0,>=0.4.1\n",
      "  Downloading pathable-0.4.3-py3-none-any.whl (9.6 kB)\n",
      "Requirement already satisfied: MarkupSafe>=2.1.1 in c:\\users\\lenovo\\anaconda3\\lib\\site-packages (from werkzeug->openapi_core<0.19.0,>=0.18.0->semantic-kernel) (2.1.1)\n",
      "Collecting lazy-object-proxy<2.0.0,>=1.7.1\n",
      "  Downloading lazy_object_proxy-1.10.0-cp38-cp38-win_amd64.whl (27 kB)\n",
      "Collecting jsonschema-path<0.4.0,>=0.3.1\n",
      "  Downloading jsonschema_path-0.3.2-py3-none-any.whl (14 kB)\n",
      "Requirement already satisfied: importlib-resources<7.0,>=5.8; python_version < \"3.9\" in c:\\users\\lenovo\\anaconda3\\lib\\site-packages (from openapi-spec-validator<0.8.0,>=0.7.1->openapi_core<0.19.0,>=0.18.0->semantic-kernel) (6.1.0)\n",
      "Requirement already satisfied: rfc3339-validator in c:\\users\\lenovo\\anaconda3\\lib\\site-packages (from openapi-schema-validator<0.7.0,>=0.6.0->openapi_core<0.19.0,>=0.18.0->semantic-kernel) (0.1.4)\n",
      "Requirement already satisfied: jsonschema-specifications<2024.0.0,>=2023.5.2 in c:\\users\\lenovo\\anaconda3\\lib\\site-packages (from openapi-schema-validator<0.7.0,>=0.6.0->openapi_core<0.19.0,>=0.18.0->semantic-kernel) (2023.7.1)\n",
      "Requirement already satisfied: rpds-py>=0.7.1 in c:\\users\\lenovo\\anaconda3\\lib\\site-packages (from jsonschema<5.0.0,>=4.18.0->openapi_core<0.19.0,>=0.18.0->semantic-kernel) (0.10.6)\n",
      "Requirement already satisfied: pkgutil-resolve-name>=1.3.10; python_version < \"3.9\" in c:\\users\\lenovo\\anaconda3\\lib\\site-packages (from jsonschema<5.0.0,>=4.18.0->openapi_core<0.19.0,>=0.18.0->semantic-kernel) (1.3.10)\n",
      "Collecting ruamel.yaml.clib>=0.2.7; platform_python_implementation == \"CPython\" and python_version < \"3.13\"\n",
      "  Downloading ruamel.yaml.clib-0.2.8-cp38-cp38-win_amd64.whl (118 kB)\n",
      "Requirement already satisfied: charset-normalizer<4,>=2 in c:\\users\\lenovo\\anaconda3\\lib\\site-packages (from requests>=2.25->prance<24.0.0.0,>=23.6.21.0->semantic-kernel) (2.0.4)\n",
      "Requirement already satisfied: urllib3<3,>=1.21.1 in c:\\users\\lenovo\\anaconda3\\lib\\site-packages (from requests>=2.25->prance<24.0.0.0,>=23.6.21.0->semantic-kernel) (1.26.18)\n",
      "Requirement already satisfied: h11<0.13,>=0.11 in c:\\users\\lenovo\\anaconda3\\lib\\site-packages (from httpcore<0.16.0,>=0.15.0->httpx<1,>=0.23.0->openai>=1.0->semantic-kernel) (0.12.0)\n",
      "Requirement already satisfied: zipp>=3.1.0; python_version < \"3.10\" in c:\\users\\lenovo\\anaconda3\\lib\\site-packages (from importlib-resources<7.0,>=5.8; python_version < \"3.9\"->openapi-spec-validator<0.8.0,>=0.7.1->openapi_core<0.19.0,>=0.18.0->semantic-kernel) (3.11.0)\n",
      "Installing collected packages: dnspython, pymongo, motor, isodate, pathable, jsonschema-spec, asgiref, lazy-object-proxy, jsonschema-path, openapi-schema-validator, openapi-spec-validator, parse, openapi-core, ruamel.yaml.clib, ruamel.yaml, prance, aiofiles, semantic-kernel\n",
      "  Attempting uninstall: lazy-object-proxy\n",
      "    Found existing installation: lazy-object-proxy 1.6.0\n",
      "    Uninstalling lazy-object-proxy-1.6.0:\n",
      "      Successfully uninstalled lazy-object-proxy-1.6.0\n",
      "Successfully installed aiofiles-23.2.1 asgiref-3.7.2 dnspython-2.4.2 isodate-0.6.1 jsonschema-path-0.3.2 jsonschema-spec-0.2.4 lazy-object-proxy-1.10.0 motor-3.3.2 openapi-core-0.18.2 openapi-schema-validator-0.6.2 openapi-spec-validator-0.7.1 parse-1.20.0 pathable-0.4.3 prance-23.6.21.0 pymongo-4.6.1 ruamel.yaml-0.18.5 ruamel.yaml.clib-0.2.8 semantic-kernel-0.4.3.dev0\n",
      "Note: you may need to restart the kernel to use updated packages.\n"
     ]
    }
   ],
   "source": [
    "pip install semantic-kernel"
   ]
  },
  {
   "cell_type": "code",
   "execution_count": 4,
   "metadata": {},
   "outputs": [
    {
     "name": "stdout",
     "output_type": "stream",
     "text": [
      "Robots must prioritize human safety.\n"
     ]
    }
   ],
   "source": [
    "import semantic_kernel as sk\n",
    "from semantic_kernel.connectors.ai.open_ai import OpenAIChatCompletion\n",
    "\n",
    "kernel = sk.Kernel()\n",
    "\n",
    "api_key, org_id = sk.openai_settings_from_dot_env()\n",
    "kernel.add_chat_service(\"chat-gpt\", OpenAIChatCompletion(\"gpt-3.5-turbo\", api_key, org_id))\n",
    "\n",
    "prompt = kernel.create_semantic_function(\"\"\"\n",
    "1) A robot may not injure a human being or, through inaction,\n",
    "allow a human being to come to harm.\n",
    "\n",
    "2) A robot must obey orders given it by human beings except where\n",
    "such orders would conflict with the First Law.\n",
    "\n",
    "3) A robot must protect its own existence as long as such protection\n",
    "does not conflict with the First or Second Law.\n",
    "\n",
    "Give me the TLDR in exactly 5 words.\"\"\")\n",
    "\n",
    "print(prompt())\n"
   ]
  },
  {
   "cell_type": "code",
   "execution_count": 5,
   "metadata": {},
   "outputs": [
    {
     "ename": "ValueError",
     "evalue": "Skill directory does not exist: FunSkill",
     "output_type": "error",
     "traceback": [
      "\u001b[1;31m---------------------------------------------------------------------------\u001b[0m",
      "\u001b[1;31mValueError\u001b[0m                                Traceback (most recent call last)",
      "Cell \u001b[1;32mIn[5], line 1\u001b[0m\n\u001b[1;32m----> 1\u001b[0m skill \u001b[38;5;241m=\u001b[39m \u001b[43mkernel\u001b[49m\u001b[38;5;241;43m.\u001b[39;49m\u001b[43mimport_semantic_skill_from_directory\u001b[49m\u001b[43m(\u001b[49m\u001b[38;5;124;43m\"\u001b[39;49m\u001b[38;5;124;43m../../samples/skills\u001b[39;49m\u001b[38;5;124;43m\"\u001b[39;49m\u001b[43m,\u001b[49m\u001b[43m \u001b[49m\u001b[38;5;124;43m\"\u001b[39;49m\u001b[38;5;124;43mFunSkill\u001b[39;49m\u001b[38;5;124;43m\"\u001b[39;49m\u001b[43m)\u001b[49m\n\u001b[0;32m      2\u001b[0m joke_function \u001b[38;5;241m=\u001b[39m skill[\u001b[38;5;124m\"\u001b[39m\u001b[38;5;124mJoke\u001b[39m\u001b[38;5;124m\"\u001b[39m]\n\u001b[0;32m      4\u001b[0m \u001b[38;5;28mprint\u001b[39m(joke_function(\u001b[38;5;124m\"\u001b[39m\u001b[38;5;124mtime travel to dinosaur age\u001b[39m\u001b[38;5;124m\"\u001b[39m))\n",
      "File \u001b[1;32mc:\\Users\\Lenovo\\anaconda3\\lib\\site-packages\\semantic_kernel\\kernel.py:850\u001b[0m, in \u001b[0;36mKernel.import_semantic_skill_from_directory\u001b[1;34m(self, parent_directory, skill_directory_name)\u001b[0m\n\u001b[0;32m    847\u001b[0m skill_directory \u001b[38;5;241m=\u001b[39m os\u001b[38;5;241m.\u001b[39mpath\u001b[38;5;241m.\u001b[39mabspath(skill_directory)\n\u001b[0;32m    849\u001b[0m \u001b[38;5;28;01mif\u001b[39;00m \u001b[38;5;129;01mnot\u001b[39;00m os\u001b[38;5;241m.\u001b[39mpath\u001b[38;5;241m.\u001b[39mexists(skill_directory):\n\u001b[1;32m--> 850\u001b[0m     \u001b[38;5;28;01mraise\u001b[39;00m \u001b[38;5;167;01mValueError\u001b[39;00m(\u001b[38;5;124mf\u001b[39m\u001b[38;5;124m\"\u001b[39m\u001b[38;5;124mSkill directory does not exist: \u001b[39m\u001b[38;5;132;01m{\u001b[39;00mskill_directory_name\u001b[38;5;132;01m}\u001b[39;00m\u001b[38;5;124m\"\u001b[39m)\n\u001b[0;32m    852\u001b[0m skill \u001b[38;5;241m=\u001b[39m {}\n\u001b[0;32m    854\u001b[0m directories \u001b[38;5;241m=\u001b[39m glob\u001b[38;5;241m.\u001b[39mglob(skill_directory \u001b[38;5;241m+\u001b[39m \u001b[38;5;124m\"\u001b[39m\u001b[38;5;124m/*/\u001b[39m\u001b[38;5;124m\"\u001b[39m)\n",
      "\u001b[1;31mValueError\u001b[0m: Skill directory does not exist: FunSkill"
     ]
    }
   ],
   "source": [
    "skill = kernel.import_semantic_skill_from_directory(\"../../samples/skills\", \"FunSkill\")\n",
    "joke_function = skill[\"Joke\"]\n",
    "\n",
    "print(joke_function(\"time travel to dinosaur age\"))"
   ]
  },
  {
   "cell_type": "code",
   "execution_count": null,
   "metadata": {},
   "outputs": [],
   "source": []
  }
 ],
 "metadata": {
  "kernelspec": {
   "display_name": "base",
   "language": "python",
   "name": "python3"
  },
  "language_info": {
   "codemirror_mode": {
    "name": "ipython",
    "version": 3
   },
   "file_extension": ".py",
   "mimetype": "text/x-python",
   "name": "python",
   "nbconvert_exporter": "python",
   "pygments_lexer": "ipython3",
   "version": "3.11.5"
  }
 },
 "nbformat": 4,
 "nbformat_minor": 2
}
