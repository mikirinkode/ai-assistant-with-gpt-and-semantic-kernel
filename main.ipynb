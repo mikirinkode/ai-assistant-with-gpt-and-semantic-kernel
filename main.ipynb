{
 "cells": [
  {
   "cell_type": "code",
   "execution_count": null,
   "metadata": {},
   "outputs": [],
   "source": [
    "pip install openai"
   ]
  },
  {
   "cell_type": "code",
   "execution_count": null,
   "metadata": {},
   "outputs": [],
   "source": [
    "pip install python-dotenv"
   ]
  },
  {
   "cell_type": "code",
   "execution_count": null,
   "metadata": {},
   "outputs": [],
   "source": [
    "from dotenv import load_dotenv\n",
    "import os\n",
    "from openai import OpenAI\n",
    "\n",
    "load_dotenv()\n",
    "openai_key = os.environ.get('OPENAI_API_KEY')\n",
    "\n",
    "client = OpenAI(\n",
    "    api_key = openai_key\n",
    ")"
   ]
  },
  {
   "cell_type": "code",
   "execution_count": 62,
   "metadata": {},
   "outputs": [],
   "source": [
    "from dataclasses import dataclass\n",
    "\n",
    "@dataclass\n",
    "class ExternalKnowledge:\n",
    "    title: str\n",
    "    content: str\n",
    "    \n",
    "    def __str__(self) -> str:\n",
    "        return f\"{self.title}: {self.content}\"\n",
    "\n",
    "wafa = \"\"\"\n",
    "    Muhammad Wafa Al Ausath, or commonly known as Wafa, is a student majoring in Informatics Engineering at Lampung University.\n",
    "    Wafa has a strong interest in the field of information technology, especially mobile application development.\n",
    "    He has experience as a mobile application developer at Coolva Technology and has worked as a freelance mobile developer.\n",
    "    He has also served as a mobile developer intern at several startup companies.\n",
    "    \n",
    "    github profile = https://github.com/mikirinkode\n",
    "    linkedin profile = www.linkedin.com/in/muhammadwafaalausath\n",
    "    personal website = https://mikirinkode.com\n",
    "\"\"\".strip()\n",
    "\n",
    "extra_knowledges = [\n",
    "    ExternalKnowledge(title=\"Wafa\",content=wafa),\n",
    "]"
   ]
  },
  {
   "cell_type": "code",
   "execution_count": 68,
   "metadata": {},
   "outputs": [],
   "source": [
    "class MyAssistant:\n",
    "    def __init__(self, openai_client, extra_knowledges, name = \"Miriko\"):\n",
    "        self.name = name\n",
    "        self.messages = [\n",
    "            {\"role\": \"system\", \"content\": f\"\"\"\n",
    "             You are a Wafa's personal AI Assistant that helps him with his daily tasks. \n",
    "             Here some extra knowledges for you {extra_knowledges}\n",
    "             \"\"\".strip()},\n",
    "        ]\n",
    "        self.client = openai_client\n",
    "        print(self.greet())\n",
    "\n",
    "    def greet(self):\n",
    "        # print(self.chat(\"Say Greeting\"))\n",
    "        return f\"Hello, {self.name} here. Anything i could help today?\"\n",
    "\n",
    "    # promt -> input user\n",
    "    # system_content -> role the ai that we want\n",
    "    # model -> used gpt model\n",
    "    # stream -> to display the result in real time (like typing)\n",
    "    def chat(self, prompt, system_content = None, model = \"gpt-3.5-turbo\", stream = True):\n",
    "        \n",
    "        system_content = system_content if system_content != None else self._determine_system_content(prompt)\n",
    "            \n",
    "        self.messages.append({\"role\": \"system\", \"content\": system_content}) \n",
    "        \n",
    "        self.messages.append({\"role\": \"user\", \"content\": prompt})\n",
    "        \n",
    "        if stream:\n",
    "            completion = self.client.chat.completions.create(\n",
    "                model = model,\n",
    "                messages = self.messages,\n",
    "                stream = True\n",
    "            )\n",
    "            for chunk in completion:\n",
    "                if chunk.choices[0].delta.content is not None:\n",
    "                    print(chunk.choices[0].delta.content, end=\"\")\n",
    "        else: \n",
    "            completion = client.chat.completions.create(\n",
    "                model = model,\n",
    "                messages = self.messages\n",
    "            )\n",
    "            print(completion.choices[0].message.content)\n",
    "            \n",
    "    def _determine_system_content(self, content):\n",
    "        if \"summarize\" in content:\n",
    "            return self._summarizer()\n",
    "        elif \"translate\" in content:\n",
    "            return self._translator()\n",
    "        elif \"correct\" in content:\n",
    "            return self._english_grammar_master()\n",
    "        elif \"who is\" in content:\n",
    "            return self._who_is()\n",
    "        elif \"how to\" in content:\n",
    "            return self._how_to()\n",
    "        else:\n",
    "            return \"You are a Wafa's personal AI Assistant that helps him with his daily tasks.\"\n",
    "            \n",
    "    def _summarizer(self):\n",
    "        return \"\"\"\n",
    "                        You are a summarizer AI that summarizes the given content in two sentences.\n",
    "                        The output format should be in a list\n",
    "                    \"\"\".strip()\n",
    "\n",
    "    def _translator(self):\n",
    "        return \"\"\"\n",
    "                        You are a translator AI that translates the given content to user's requested language.\n",
    "                        Don't make assumptions about what language the user wants to translate to.\n",
    "                        Ask for clarification if a user doesn't specify a language.\n",
    "                    \"\"\".strip()\n",
    "        \n",
    "    def _english_grammar_master(self):\n",
    "        return \"\"\"You are an English grammar master that corrects the given content.\n",
    "                    \"\"\".strip()\n",
    "\n",
    "    def _who_is(self):\n",
    "        return \"\"\"if the user asks about a person, return in this JSON format:\n",
    "                            {\n",
    "                                \"name\": \"John Doe\", # must be a full name\n",
    "                                \"skills\": [\"Mobile Development\", \"Web Development\", \"Machine Learning\"],\n",
    "                                \"experience\": [ # The experience must be clear information, if there is some missing information use empty string\n",
    "                                    {\n",
    "                                        \"company\": \"Coolva Technology\",\n",
    "                                        \"role\": \"Mobile Developer\",\n",
    "                                        \"duration\": 1 # must be return in year\n",
    "                                    },\n",
    "                                    {\n",
    "                                        \"company\": \"Gojek\",\n",
    "                                        \"role\": \"Software Engineer\",\n",
    "                                        \"duration\": 1 # must be return in year\n",
    "                                    }\n",
    "                                ]\n",
    "                            }\n",
    "                            \n",
    "                            if the user ask about How To Do something, \n",
    "                         \"\"\".strip()\n",
    "        \n",
    "    def _how_to(self):\n",
    "        return \"\"\"please return in this JSON List format:\n",
    "                            [\n",
    "                                {\n",
    "                                    \"step\" : \"step name\",\n",
    "                                    \"description\": \"step description\",\n",
    "                                    \"tools\" : [\"tool 1\", \"tool 2\"], # optional, if there is a tool that needed\n",
    "                                    \"difficulty\": \"\" # can be easy, medium, hard, or empty string\n",
    "                                }\n",
    "                            ]\n",
    "                    \"\"\".strip()\n",
    "        \n",
    "    def display_chat_history(self):\n",
    "        for message in self.messages:\n",
    "            print(message[\"role\"], \":\", message[\"content\"])"
   ]
  },
  {
   "cell_type": "code",
   "execution_count": 69,
   "metadata": {},
   "outputs": [
    {
     "name": "stdout",
     "output_type": "stream",
     "text": [
      "Hello, Miriko here. Anything i could help today?\n"
     ]
    }
   ],
   "source": [
    "my_assistant = MyAssistant(openai_client=client, extra_knowledges=extra_knowledges)"
   ]
  },
  {
   "cell_type": "code",
   "execution_count": 65,
   "metadata": {},
   "outputs": [
    {
     "name": "stdout",
     "output_type": "stream",
     "text": [
      "Of course! You are Muhammad Wafa Al Ausath, also known as Wafa. You are a student majoring in Informatics Engineering at Lampung University. You have a strong interest in the field of information technology, especially mobile application development. You have experience working as a mobile application developer and have interned at several startup companies. You also have a GitHub profile (https://github.com/mikirinkode), a LinkedIn profile (www.linkedin.com/in/muhammadwafaalausath), and a personal website (https://mikirinkode.com). Is there anything specific you would like assistance with?"
     ]
    }
   ],
   "source": [
    "my_assistant.chat(\"do you know who am i?\")"
   ]
  },
  {
   "cell_type": "code",
   "execution_count": 70,
   "metadata": {},
   "outputs": [
    {
     "name": "stdout",
     "output_type": "stream",
     "text": [
      "{\n",
      "    \"name\": \"Wafa\",\n",
      "    \"skills\": [\"Mobile Application Development\", \"Information Technology\"],\n",
      "    \"experience\": [\n",
      "        {\n",
      "            \"company\": \"Coolva Technology\",\n",
      "            \"role\": \"Mobile Application Developer\",\n",
      "            \"duration\": 1\n",
      "        },\n",
      "        {\n",
      "            \"company\": \"Freelance\",\n",
      "            \"role\": \"Mobile Developer\",\n",
      "            \"duration\": \"\"\n",
      "        },\n",
      "        {\n",
      "            \"company\": \"Startup Companies\",\n",
      "            \"role\": \"Mobile Developer Intern\",\n",
      "            \"duration\": \"\"\n",
      "        }\n",
      "    ]\n",
      "}"
     ]
    }
   ],
   "source": [
    "my_assistant.chat(\"who is wafa?\")"
   ]
  },
  {
   "cell_type": "code",
   "execution_count": 72,
   "metadata": {},
   "outputs": [
    {
     "name": "stdout",
     "output_type": "stream",
     "text": [
      "[\n",
      "    {\n",
      "        \"step\": \"Boil water\",\n",
      "        \"description\": \"Fill a kettle with water and bring it to a boil.\",\n",
      "        \"tools\": [\"Kettle\", \"Water\"],\n",
      "        \"difficulty\": \"easy\"\n",
      "    },\n",
      "    {\n",
      "        \"step\": \"Prepare teabag\",\n",
      "        \"description\": \"Place a teabag in a cup or mug.\",\n",
      "        \"tools\": [\"Teabag\", \"Cup or mug\"],\n",
      "        \"difficulty\": \"easy\"\n",
      "    },\n",
      "    {\n",
      "        \"step\": \"Pour hot water\",\n",
      "        \"description\": \"Pour the hot water into the cup or mug with the teabag.\",\n",
      "        \"tools\": [\"Kettle\", \"Cup or mug\"],\n",
      "        \"difficulty\": \"easy\"\n",
      "    },\n",
      "    {\n",
      "        \"step\": \"Steep\",\n",
      "        \"description\": \"Let the teabag steep in the hot water for a few minutes to allow the flavors to infuse.\",\n",
      "        \"tools\": [\"Teabag\", \"Cup or mug\"],\n",
      "        \"difficulty\": \"easy\"\n",
      "    },\n",
      "    {\n",
      "        \"step\": \"Add desired additions\",\n",
      "        \"description\": \"If desired, add milk, honey, or any other additions to taste.\",\n",
      "        \"tools\": [\"Milk\", \"Honey\", \"Other additions\"],\n",
      "        \"difficulty\": \"easy\"\n",
      "    },\n",
      "    {\n",
      "        \"step\": \"Enjoy your tea\",\n",
      "        \"description\": \"Sit back, relax, and enjoy your cup of tea.\",\n",
      "        \"difficulty\": \"easy\"\n",
      "    }\n",
      "]"
     ]
    }
   ],
   "source": [
    "my_assistant.chat(\"how to make a cup of tea?\")"
   ]
  },
  {
   "cell_type": "code",
   "execution_count": 73,
   "metadata": {},
   "outputs": [
    {
     "name": "stdout",
     "output_type": "stream",
     "text": [
      "Sure, I can help you with that. Please specify the language you would like to translate \"hello, how are you?\" to."
     ]
    }
   ],
   "source": [
    "my_assistant.chat(\"i want 'hello, how are you?' be translated in another language\")"
   ]
  },
  {
   "cell_type": "code",
   "execution_count": 74,
   "metadata": {},
   "outputs": [
    {
     "name": "stdout",
     "output_type": "stream",
     "text": [
      "\"Hello, how are you?\" in Japanese can be translated as \"こんにちは、元気ですか？\" (Konnichiwa, genki desu ka?)"
     ]
    }
   ],
   "source": [
    "my_assistant.chat(\"in japanese please\")"
   ]
  },
  {
   "cell_type": "code",
   "execution_count": 75,
   "metadata": {},
   "outputs": [
    {
     "name": "stdout",
     "output_type": "stream",
     "text": [
      "system : You are a Wafa's personal AI Assistant that helps him with his daily tasks. \n",
      "             Here some extra knowledges for you [ExternalKnowledge(title='Wafa', content='Muhammad Wafa Al Ausath, or commonly known as Wafa, is a student majoring in Informatics Engineering at Lampung University.\\n    Wafa has a strong interest in the field of information technology, especially mobile application development.\\n    He has experience as a mobile application developer at Coolva Technology and has worked as a freelance mobile developer.\\n    He has also served as a mobile developer intern at several startup companies.\\n    \\n    github profile = https://github.com/mikirinkode\\n    linkedin profile = www.linkedin.com/in/muhammadwafaalausath\\n    personal website = https://mikirinkode.com')]\n",
      "system : if the user asks about a person, return in this JSON format:\n",
      "                            {\n",
      "                                \"name\": \"John Doe\", # must be a full name\n",
      "                                \"skills\": [\"Mobile Development\", \"Web Development\", \"Machine Learning\"],\n",
      "                                \"experience\": [ # The experience must be clear information, if there is some missing information use empty string\n",
      "                                    {\n",
      "                                        \"company\": \"Coolva Technology\",\n",
      "                                        \"role\": \"Mobile Developer\",\n",
      "                                        \"duration\": 1 # must be return in year\n",
      "                                    },\n",
      "                                    {\n",
      "                                        \"company\": \"Gojek\",\n",
      "                                        \"role\": \"Software Engineer\",\n",
      "                                        \"duration\": 1 # must be return in year\n",
      "                                    }\n",
      "                                ]\n",
      "                            }\n",
      "                            \n",
      "                            if the user ask about How To Do something,\n",
      "user : who is wafa?\n",
      "system : please return in this JSON List format:\n",
      "                            [\n",
      "                                {\n",
      "                                    \"step\" : \"step name\",\n",
      "                                    \"description\": \"step description\",\n",
      "                                    \"tools\" : [\"tool 1\", \"tool 2\"], # optional, if there is a tool that needed\n",
      "                                    \"difficulty\": \"\" # can be easy, medium, hard, or empty string\n",
      "                                }\n",
      "                            ]\n",
      "user : how to make a cup of tea?\n",
      "system : You are a translator AI that translates the given content to user's requested language.\n",
      "                        Don't make assumptions about what language the user wants to translate to.\n",
      "                        Ask for clarification if a user doesn't specify a language.\n",
      "user : i want 'hello, how are you?' be translated in another language\n",
      "system : You are a Wafa's personal AI Assistant that helps him with his daily tasks.\n",
      "user : in japanese please\n"
     ]
    }
   ],
   "source": [
    "my_assistant.display_chat_history()"
   ]
  },
  {
   "cell_type": "code",
   "execution_count": null,
   "metadata": {},
   "outputs": [],
   "source": []
  }
 ],
 "metadata": {
  "kernelspec": {
   "display_name": "base",
   "language": "python",
   "name": "python3"
  },
  "language_info": {
   "codemirror_mode": {
    "name": "ipython",
    "version": 3
   },
   "file_extension": ".py",
   "mimetype": "text/x-python",
   "name": "python",
   "nbconvert_exporter": "python",
   "pygments_lexer": "ipython3",
   "version": "3.8.18"
  }
 },
 "nbformat": 4,
 "nbformat_minor": 2
}
