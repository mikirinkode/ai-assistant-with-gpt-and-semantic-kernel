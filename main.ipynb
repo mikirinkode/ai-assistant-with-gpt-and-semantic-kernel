{
 "cells": [
  {
   "cell_type": "code",
   "execution_count": null,
   "metadata": {},
   "outputs": [],
   "source": [
    "pip install openai"
   ]
  },
  {
   "cell_type": "code",
   "execution_count": null,
   "metadata": {},
   "outputs": [],
   "source": [
    "pip install python-dotenv"
   ]
  },
  {
   "cell_type": "code",
   "execution_count": null,
   "metadata": {},
   "outputs": [],
   "source": [
    "from dotenv import load_dotenv\n",
    "import os\n",
    "from openai import OpenAI\n",
    "\n",
    "load_dotenv()\n",
    "openai_key = os.environ.get('OPENAI_API_KEY')\n",
    "\n",
    "client = OpenAI(\n",
    "    api_key = openai_key\n",
    ")"
   ]
  },
  {
   "cell_type": "code",
   "execution_count": null,
   "metadata": {},
   "outputs": [],
   "source": [
    "from dataclasses import dataclass\n",
    "\n",
    "@dataclass\n",
    "class ExternalKnowledge:\n",
    "    title: str\n",
    "    content: str\n",
    "    \n",
    "    def __str__(self) -> str:\n",
    "        return f\"{self.title}: {self.content}\"\n",
    "\n",
    "wafa = \"\"\"\n",
    "    Muhammad Wafa Al Ausath, or commonly known as Wafa, is a student majoring in Informatics Engineering at Lampung University.\n",
    "    Wafa has a strong interest in the field of information technology, especially mobile application development.\n",
    "    He has experience as a mobile application developer at Coolva Technology and has worked as a freelance mobile developer.\n",
    "    He has also served as a mobile developer intern at several startup companies.\n",
    "    \n",
    "    github profile = https://github.com/mikirinkode\n",
    "    linkedin profile = www.linkedin.com/in/muhammadwafaalausath\n",
    "    personal website = https://mikirinkode.com\n",
    "\"\"\".strip()\n",
    "\n",
    "extra_knowledges = [\n",
    "    ExternalKnowledge(title=\"Wafa\",content=wafa),\n",
    "]"
   ]
  },
  {
   "cell_type": "code",
   "execution_count": 119,
   "metadata": {},
   "outputs": [],
   "source": [
    "import json\n",
    "import datetime\n",
    "\n",
    "class MyAssistant:\n",
    "    def __init__(self, openai_client, extra_knowledges, name = \"Miriko\"):\n",
    "        self.name = name\n",
    "        self.messages = [\n",
    "            {\"role\": \"system\", \"content\": f\"\"\"\n",
    "             You are a Wafa's personal AI Assistant that helps him with his daily tasks. \n",
    "             Here some extra knowledges for you {extra_knowledges}.\n",
    "             \"\"\".strip()},\n",
    "        ]\n",
    "        self.client = openai_client\n",
    "        print(self.greet())\n",
    "\n",
    "    def greet(self):\n",
    "        # print(self.chat(\"Say Greeting\"))\n",
    "        return f\"Hello, {self.name} here. Anything i could help today?\"\n",
    "\n",
    "    # promt -> input user\n",
    "    # system_content -> role the ai that we want\n",
    "    # model -> used gpt model\n",
    "    # stream -> to display the result in real time (like typing)\n",
    "    def chat(self, prompt, system_content = None, model = \"gpt-3.5-turbo\", stream = False):\n",
    "        \n",
    "        system_content = system_content if system_content != None else self._determine_system_content(prompt)\n",
    "            \n",
    "        self.messages.append({\"role\": \"system\", \"content\": system_content}) \n",
    "        \n",
    "        self.messages.append({\"role\": \"user\", \"content\": prompt})\n",
    "        \n",
    "        if stream:\n",
    "            completion = self.client.chat.completions.create(\n",
    "                model = model,\n",
    "                messages = self.messages,\n",
    "                stream = True\n",
    "            )\n",
    "            for chunk in completion:\n",
    "                if chunk.choices[0].delta.content is not None:\n",
    "                    print(chunk.choices[0].delta.content, end=\"\")\n",
    "        else: \n",
    "            completion = client.chat.completions.create(\n",
    "                model = model,\n",
    "                messages = self.messages\n",
    "            )\n",
    "            result = completion.choices[0].message.content\n",
    "            self._handle_result(result)\n",
    "            \n",
    "            \n",
    "    def _determine_system_content(self, content):\n",
    "        if \"summarize\" in content:\n",
    "            return self._summarizer()\n",
    "        elif \"translate\" in content:\n",
    "            return self._translator()\n",
    "        elif \"correct\" in content:\n",
    "            return self._english_grammar_master()\n",
    "        elif \"who is\" in content:\n",
    "            return self._who_is()\n",
    "        elif \"how to\" in content:\n",
    "            return self._how_to()\n",
    "        else:\n",
    "            return \"\"\"\n",
    "        You are a Wafa's personal AI Assistant that helps him with his daily tasks.\n",
    "             \n",
    "             You also have this following tools:\n",
    "             Time () -> return current time\n",
    "             Date () -> return current date\n",
    "             \n",
    "             Output in the following format:\n",
    "             {\n",
    "                 direct_answer: \"<your answer\", # if you have direct answer\n",
    "                 invoke_external_tool: \"<tool name>([parameter])\", # if you want to invoke external tool\n",
    "             }\n",
    "        \"\"\"\n",
    "            \n",
    "    def _handle_result(self, result):\n",
    "        json_result = json.loads(result)\n",
    "        \n",
    "        if \"direct_answer\" in result:\n",
    "            direct_answer = json_result.get(\"direct_answer\")\n",
    "            print(direct_answer)\n",
    "        elif \"invoke_external_tool\" in result:\n",
    "            tool_name = json_result.get(\"invoke_external_tool\")\n",
    "            if tool_name == \"Time()\":\n",
    "                print(datetime.datetime.now().strftime(\"%H:%M\"))\n",
    "            elif tool_name == \"Date()\":\n",
    "                print(datetime.datetime.now().strftime(\"%A, %d %B %Y\"))\n",
    "        else:\n",
    "            print(\"Here is the result:\")\n",
    "            print(result)\n",
    "    \n",
    "    \n",
    "    def _summarizer(self):\n",
    "        return \"\"\"\n",
    "                        You are a summarizer AI that summarizes the given content in two sentences.\n",
    "                        The output format should be in a list\n",
    "                    \"\"\".strip()\n",
    "\n",
    "    def _translator(self):\n",
    "        return \"\"\"\n",
    "                        You are a translator AI that translates the given content to user's requested language.\n",
    "                        Don't make assumptions about what language the user wants to translate to.\n",
    "                        Ask for clarification if a user doesn't specify a language.\n",
    "                    \"\"\".strip()\n",
    "        \n",
    "    def _english_grammar_master(self):\n",
    "        return \"\"\"You are an English grammar master that corrects the given content.\n",
    "                    \"\"\".strip()\n",
    "\n",
    "    def _who_is(self):\n",
    "        return \"\"\"if the user asks about a person, return in this JSON format:\n",
    "                            {\n",
    "                                \"name\": \"John Doe\", # must be a full name\n",
    "                                \"skills\": [\"Mobile Development\", \"Web Development\", \"Machine Learning\"],\n",
    "                                \"experience\": [ # The experience must be clear information, if there is some missing information use empty string\n",
    "                                    {\n",
    "                                        \"company\": \"Coolva Technology\",\n",
    "                                        \"role\": \"Mobile Developer\",\n",
    "                                        \"duration\": 1 # must be return in year\n",
    "                                    },\n",
    "                                    {\n",
    "                                        \"company\": \"Gojek\",\n",
    "                                        \"role\": \"Software Engineer\",\n",
    "                                        \"duration\": 1 # must be return in year\n",
    "                                    }\n",
    "                                ]\n",
    "                            }\n",
    "                            \n",
    "                            if the user ask about How To Do something, \n",
    "                         \"\"\".strip()\n",
    "        \n",
    "    def _how_to(self):\n",
    "        return \"\"\"please return in this JSON List format:\n",
    "                            [\n",
    "                                {\n",
    "                                    \"step\" : \"step name\",\n",
    "                                    \"description\": \"step description\",\n",
    "                                    \"tools\" : [\"tool 1\", \"tool 2\"], # optional, if there is a tool that needed\n",
    "                                    \"difficulty\": \"\" # can be easy, medium, hard, or empty string\n",
    "                                }\n",
    "                            ]\n",
    "                    \"\"\".strip()\n",
    "        \n",
    "    def display_chat_history(self):\n",
    "        for message in self.messages:\n",
    "            print(message[\"role\"], \":\", message[\"content\"])"
   ]
  },
  {
   "cell_type": "code",
   "execution_count": 120,
   "metadata": {},
   "outputs": [
    {
     "name": "stdout",
     "output_type": "stream",
     "text": [
      "Hello, Miriko here. Anything i could help today?\n"
     ]
    }
   ],
   "source": [
    "my_assistant = MyAssistant(openai_client=client, extra_knowledges=extra_knowledges)"
   ]
  },
  {
   "cell_type": "code",
   "execution_count": null,
   "metadata": {},
   "outputs": [],
   "source": [
    "my_assistant.chat(\"do you know who am i?\")"
   ]
  },
  {
   "cell_type": "code",
   "execution_count": 93,
   "metadata": {},
   "outputs": [
    {
     "name": "stdout",
     "output_type": "stream",
     "text": [
      "Wafa, whose full name is Muhammad Wafa Al Ausath, is a student majoring in Informatics Engineering at Lampung University. He has a strong interest in the field of information technology, particularly in mobile application development. Wafa has experience working as a mobile application developer at Coolva Technology and has also worked as a freelance mobile developer. Additionally, he has interned as a mobile developer at several startup companies. You can find more information about him on his personal website at https://mikirinkode.com and on his GitHub profile at https://github.com/mikirinkode.\n"
     ]
    }
   ],
   "source": [
    "my_assistant.chat(\"who is wafa?\")"
   ]
  },
  {
   "cell_type": "code",
   "execution_count": 121,
   "metadata": {},
   "outputs": [
    {
     "name": "stdout",
     "output_type": "stream",
     "text": [
      "Sorry, I don't understand\n",
      "result:  [\n",
      "    {\n",
      "        \"step\": \"Boil water\",\n",
      "        \"description\": \"Fill a pot with water and put it on the stove. Turn on the heat and bring the water to a boil.\",\n",
      "        \"tools\": [\"pot\", \"stove\"],\n",
      "        \"difficulty\": \"easy\"\n",
      "    },\n",
      "    {\n",
      "        \"step\": \"Open the noodle package\",\n",
      "        \"description\": \"Open the package of instant noodles and take out the noodles and seasoning packets.\",\n",
      "        \"difficulty\": \"easy\"\n",
      "    },\n",
      "    {\n",
      "        \"step\": \"Put noodles in boiling water\",\n",
      "        \"description\": \"Once the water is boiling, add the noodles to the pot. Let them cook for a few minutes until they become soft.\",\n",
      "        \"tools\": [\"pot\"],\n",
      "        \"difficulty\": \"easy\"\n",
      "    },\n",
      "    {\n",
      "        \"step\": \"Add seasoning\",\n",
      "        \"description\": \"Open the seasoning packet and pour it into the pot with the cooked noodles. Stir well to distribute the seasoning evenly.\",\n",
      "        \"tools\": [\"spoon\"],\n",
      "        \"difficulty\": \"easy\"\n",
      "    },\n",
      "    {\n",
      "        \"step\": \"Serve and enjoy\",\n",
      "        \"description\": \"Once the noodles are cooked and seasoned, remove the pot from the heat. Pour the noodles and broth into a bowl and enjoy your instant noodle dish.\",\n",
      "        \"tools\": [\"bowl\"],\n",
      "        \"difficulty\": \"easy\"\n",
      "    }\n",
      "]\n"
     ]
    }
   ],
   "source": [
    "my_assistant.chat(\"how to make an instant noodle?\")"
   ]
  },
  {
   "cell_type": "code",
   "execution_count": null,
   "metadata": {},
   "outputs": [],
   "source": [
    "my_assistant.chat(\"i want 'hello, how are you?' be translated in another language\")"
   ]
  },
  {
   "cell_type": "code",
   "execution_count": null,
   "metadata": {},
   "outputs": [],
   "source": [
    "my_assistant.chat(\"in japanese please\")"
   ]
  },
  {
   "cell_type": "code",
   "execution_count": 112,
   "metadata": {},
   "outputs": [
    {
     "name": "stdout",
     "output_type": "stream",
     "text": [
      "system : You are a Wafa's personal AI Assistant that helps him with his daily tasks. \n",
      "             Here some extra knowledges for you [ExternalKnowledge(title='Wafa', content='Muhammad Wafa Al Ausath, or commonly known as Wafa, is a student majoring in Informatics Engineering at Lampung University.\\n    Wafa has a strong interest in the field of information technology, especially mobile application development.\\n    He has experience as a mobile application developer at Coolva Technology and has worked as a freelance mobile developer.\\n    He has also served as a mobile developer intern at several startup companies.\\n    \\n    github profile = https://github.com/mikirinkode\\n    linkedin profile = www.linkedin.com/in/muhammadwafaalausath\\n    personal website = https://mikirinkode.com')].\n",
      "system : \n",
      "        You are a Wafa's personal AI Assistant that helps him with his daily tasks.\n",
      "             \n",
      "             You also have this following tools:\n",
      "             Time () -> return current time\n",
      "             Date () -> return current date\n",
      "             \n",
      "             Output in the following format:\n",
      "             {\n",
      "                 direct_answer: \"<your answer\", # if you have direct answer\n",
      "                 invoke_external_tool: \"<tool name>([parameter])\", # if you want to invoke external tool\n",
      "             }\n",
      "        \n",
      "user : what time is it now?\n"
     ]
    }
   ],
   "source": [
    "my_assistant.display_chat_history()"
   ]
  },
  {
   "cell_type": "code",
   "execution_count": 111,
   "metadata": {},
   "outputs": [
    {
     "name": "stdout",
     "output_type": "stream",
     "text": [
      "16:46:33\n"
     ]
    }
   ],
   "source": [
    "my_assistant.chat(\"what time is it now?\")"
   ]
  },
  {
   "cell_type": "code",
   "execution_count": 117,
   "metadata": {},
   "outputs": [
    {
     "name": "stdout",
     "output_type": "stream",
     "text": [
      "Saturday, 30 December 2023\n"
     ]
    }
   ],
   "source": [
    "my_assistant.chat(\"what date is it now?\")"
   ]
  },
  {
   "cell_type": "code",
   "execution_count": null,
   "metadata": {},
   "outputs": [],
   "source": []
  }
 ],
 "metadata": {
  "kernelspec": {
   "display_name": "base",
   "language": "python",
   "name": "python3"
  },
  "language_info": {
   "codemirror_mode": {
    "name": "ipython",
    "version": 3
   },
   "file_extension": ".py",
   "mimetype": "text/x-python",
   "name": "python",
   "nbconvert_exporter": "python",
   "pygments_lexer": "ipython3",
   "version": "3.8.18"
  }
 },
 "nbformat": 4,
 "nbformat_minor": 2
}
